{
 "cells": [
  {
   "cell_type": "markdown",
   "id": "attended-robinson",
   "metadata": {},
   "source": [
    "# Scaleway AI Inference Quick Start : Simple Machine Learning example"
   ]
  },
  {
   "cell_type": "markdown",
   "id": "generic-spring",
   "metadata": {},
   "source": [
    "How to use:\n",
    "- Execute cells with `SHIFT + ENTER``\n",
    "- Make sure to execute cells in order (Executing previous cells might fails). \n",
    "- In case you want to reset the environment, use the menu \"Kernel\", \"Restart Kernel and clear all outputs\" and restart cells executionfrom the begining\n",
    "\n",
    "## About AI Inference\n",
    "\n",
    "Scaleway AI Inference provides clients with a flexible Machine Learning (ML) inference function which runs a trained model for clients on managed infrastructure and with built-in scalability.\n",
    "\n",
    "By taking advantage of the serverless architecture, we provide:\n",
    "- An adapted runtime for your model to perform fast predictions.\n",
    "- A predictable billing that you pay only when predictions are made. The serveless function is only up when you call it.\n",
    "- Auto-Scalability makes the inference server adapt to handle as much requests as you send it.The Scaleway Inference product provides clients with a flexible Machine Learning (ML) inference function which runs a trained model for clients on managed infrastructure and with built-in scalability.\n",
    "\n",
    "\n",
    "### About this demo\n",
    "\n",
    "In this demo, the [Scaleway AI Inference API](https://developers.scaleway.com/en/products/inference/api/v1alpha1/) will be introduced.\n",
    "\n",
    "In this demo, you will create an inference endpoint URL that you can query to make predictions with a machine learning model classifier trained on the Iris Dataset.\n",
    "\n",
    "The Iris flower data set consists of 50 samples from each of three species of Iris (Iris setosa, Iris virginica and Iris versicolor). Four features were measured from each sample: the length and the width of the sepals and petals, in centimeters. Based on the combination of these four features, Fisher developed a linear discriminant model to distinguish the species from each other.\n",
    "\n",
    "![Iris Dataset](./iris.png \"Iris dataset\")\n",
    "\n",
    "See [sklearn-ONNX](http://onnx.ai/sklearn-onnx/)"
   ]
  },
  {
   "cell_type": "markdown",
   "id": "under-portal",
   "metadata": {},
   "source": [
    "## Install Python dependencies"
   ]
  },
  {
   "cell_type": "code",
   "execution_count": 1,
   "id": "eleven-discussion",
   "metadata": {},
   "outputs": [],
   "source": [
    "%%bash\n",
    "\n",
    "#apt-get install jq curl\n",
    "#pip install -q scikit-learn numpy pandas boto3"
   ]
  },
  {
   "cell_type": "markdown",
   "id": "documentary-interface",
   "metadata": {},
   "source": [
    "## Train a model with scikit-learn"
   ]
  },
  {
   "cell_type": "code",
   "execution_count": 2,
   "id": "critical-triangle",
   "metadata": {},
   "outputs": [],
   "source": [
    "# Prepare model saving directory\n",
    "import os\n",
    "from pathlib import Path\n",
    "\n",
    "SAVE_DIR = os.path.join(Path('./'), 'saved_models')\n",
    "if not os.path.isdir(SAVE_DIR):\n",
    "    os.makedirs(SAVE_DIR)\n",
    "os.environ[\"SAVE_DIR\"] = SAVE_DIR"
   ]
  },
  {
   "cell_type": "code",
   "execution_count": 3,
   "id": "focal-milwaukee",
   "metadata": {},
   "outputs": [
    {
     "data": {
      "text/html": [
       "<style  type=\"text/css\" >\n",
       "</style><table id=\"T_ab862_\" ><thead>    <tr>        <th class=\"blank level0\" ></th>        <th class=\"col_heading level0 col0\" >sepal length (cm)</th>        <th class=\"col_heading level0 col1\" >sepal width (cm)</th>        <th class=\"col_heading level0 col2\" >petal length (cm)</th>        <th class=\"col_heading level0 col3\" >petal width (cm)</th>        <th class=\"col_heading level0 col4\" >target</th>        <th class=\"col_heading level0 col5\" >target_labels</th>    </tr></thead><tbody>\n",
       "                <tr>\n",
       "                        <th id=\"T_ab862_level0_row0\" class=\"row_heading level0 row0\" >14</th>\n",
       "                        <td id=\"T_ab862_row0_col0\" class=\"data row0 col0\" >5.800000</td>\n",
       "                        <td id=\"T_ab862_row0_col1\" class=\"data row0 col1\" >4.000000</td>\n",
       "                        <td id=\"T_ab862_row0_col2\" class=\"data row0 col2\" >1.200000</td>\n",
       "                        <td id=\"T_ab862_row0_col3\" class=\"data row0 col3\" >0.200000</td>\n",
       "                        <td id=\"T_ab862_row0_col4\" class=\"data row0 col4\" >0</td>\n",
       "                        <td id=\"T_ab862_row0_col5\" class=\"data row0 col5\" >setosa</td>\n",
       "            </tr>\n",
       "            <tr>\n",
       "                        <th id=\"T_ab862_level0_row1\" class=\"row_heading level0 row1\" >98</th>\n",
       "                        <td id=\"T_ab862_row1_col0\" class=\"data row1 col0\" >5.100000</td>\n",
       "                        <td id=\"T_ab862_row1_col1\" class=\"data row1 col1\" >2.500000</td>\n",
       "                        <td id=\"T_ab862_row1_col2\" class=\"data row1 col2\" >3.000000</td>\n",
       "                        <td id=\"T_ab862_row1_col3\" class=\"data row1 col3\" >1.100000</td>\n",
       "                        <td id=\"T_ab862_row1_col4\" class=\"data row1 col4\" >1</td>\n",
       "                        <td id=\"T_ab862_row1_col5\" class=\"data row1 col5\" >versicolor</td>\n",
       "            </tr>\n",
       "            <tr>\n",
       "                        <th id=\"T_ab862_level0_row2\" class=\"row_heading level0 row2\" >75</th>\n",
       "                        <td id=\"T_ab862_row2_col0\" class=\"data row2 col0\" >6.600000</td>\n",
       "                        <td id=\"T_ab862_row2_col1\" class=\"data row2 col1\" >3.000000</td>\n",
       "                        <td id=\"T_ab862_row2_col2\" class=\"data row2 col2\" >4.400000</td>\n",
       "                        <td id=\"T_ab862_row2_col3\" class=\"data row2 col3\" >1.400000</td>\n",
       "                        <td id=\"T_ab862_row2_col4\" class=\"data row2 col4\" >1</td>\n",
       "                        <td id=\"T_ab862_row2_col5\" class=\"data row2 col5\" >versicolor</td>\n",
       "            </tr>\n",
       "            <tr>\n",
       "                        <th id=\"T_ab862_level0_row3\" class=\"row_heading level0 row3\" >16</th>\n",
       "                        <td id=\"T_ab862_row3_col0\" class=\"data row3 col0\" >5.400000</td>\n",
       "                        <td id=\"T_ab862_row3_col1\" class=\"data row3 col1\" >3.900000</td>\n",
       "                        <td id=\"T_ab862_row3_col2\" class=\"data row3 col2\" >1.300000</td>\n",
       "                        <td id=\"T_ab862_row3_col3\" class=\"data row3 col3\" >0.400000</td>\n",
       "                        <td id=\"T_ab862_row3_col4\" class=\"data row3 col4\" >0</td>\n",
       "                        <td id=\"T_ab862_row3_col5\" class=\"data row3 col5\" >setosa</td>\n",
       "            </tr>\n",
       "            <tr>\n",
       "                        <th id=\"T_ab862_level0_row4\" class=\"row_heading level0 row4\" >131</th>\n",
       "                        <td id=\"T_ab862_row4_col0\" class=\"data row4 col0\" >7.900000</td>\n",
       "                        <td id=\"T_ab862_row4_col1\" class=\"data row4 col1\" >3.800000</td>\n",
       "                        <td id=\"T_ab862_row4_col2\" class=\"data row4 col2\" >6.400000</td>\n",
       "                        <td id=\"T_ab862_row4_col3\" class=\"data row4 col3\" >2.000000</td>\n",
       "                        <td id=\"T_ab862_row4_col4\" class=\"data row4 col4\" >2</td>\n",
       "                        <td id=\"T_ab862_row4_col5\" class=\"data row4 col5\" >virginica</td>\n",
       "            </tr>\n",
       "    </tbody></table>"
      ],
      "text/plain": [
       "<pandas.io.formats.style.Styler at 0x7fea1741b970>"
      ]
     },
     "execution_count": 3,
     "metadata": {},
     "output_type": "execute_result"
    }
   ],
   "source": [
    "from sklearn.datasets import load_iris\n",
    "from sklearn.model_selection import train_test_split\n",
    "from sklearn.ensemble import RandomForestClassifier\n",
    "import pandas as pd\n",
    "\n",
    "# Load the dataset\n",
    "iris = load_iris()\n",
    "X, y = iris.data, iris.target\n",
    "X_train, X_test, y_train, y_test = train_test_split(X, y)\n",
    "\n",
    "# Explore the dataset\n",
    "df = pd.DataFrame(iris.data, columns=iris.feature_names)\n",
    "df['target'] = pd.Series(iris.target)\n",
    "labels = iris.target_names\n",
    "df['target_labels'] = labels[df.target]\n",
    "df.sample(n=5, random_state=1).style"
   ]
  },
  {
   "cell_type": "code",
   "execution_count": 4,
   "id": "enclosed-mobility",
   "metadata": {},
   "outputs": [
    {
     "data": {
      "text/plain": [
       "RandomForestClassifier()"
      ]
     },
     "execution_count": 4,
     "metadata": {},
     "output_type": "execute_result"
    }
   ],
   "source": [
    "# Train the model\n",
    "model = RandomForestClassifier()\n",
    "model.fit(X_train, y_train)"
   ]
  },
  {
   "cell_type": "code",
   "execution_count": 5,
   "id": "hairy-secretariat",
   "metadata": {},
   "outputs": [
    {
     "name": "stdout",
     "output_type": "stream",
     "text": [
      "Prediction: 1 - Ground truth label 1\n",
      "Prediction: 2 - Ground truth label 1\n",
      "Prediction: 0 - Ground truth label 0\n",
      "Prediction: 1 - Ground truth label 1\n",
      "Prediction: 2 - Ground truth label 2\n"
     ]
    }
   ],
   "source": [
    "# Make some predictions with the test dataset\n",
    "preds = model.predict(X_test)\n",
    "\n",
    "# Display a few predictions\n",
    "for i in range(5):\n",
    "    print(\"Prediction: {} - Ground truth label {}\".format(preds[i], y_test[i]))"
   ]
  },
  {
   "cell_type": "markdown",
   "id": "designed-lucas",
   "metadata": {},
   "source": [
    "## Convert the Scikit-Learn model to ONNX format"
   ]
  },
  {
   "cell_type": "code",
   "execution_count": 6,
   "id": "instrumental-soviet",
   "metadata": {},
   "outputs": [
    {
     "name": "stdout",
     "output_type": "stream",
     "text": [
      "Model saved in ./saved_models/iris.onnx\n",
      "\n",
      "Prediction: 1 - Ground truth label 1\n",
      "Prediction: 2 - Ground truth label 1\n",
      "Prediction: 0 - Ground truth label 0\n",
      "Prediction: 1 - Ground truth label 1\n",
      "Prediction: 2 - Ground truth label 2\n"
     ]
    }
   ],
   "source": [
    "# Convert into ONNX format\n",
    "from skl2onnx import convert_sklearn\n",
    "from skl2onnx.common.data_types import FloatTensorType\n",
    "\n",
    "\n",
    "FILE_PATH = os.path.join(SAVE_DIR, 'iris.onnx')\n",
    "\n",
    "initial_type = [('float_input', FloatTensorType([None, 4]))]\n",
    "\n",
    "onnx = convert_sklearn(model, initial_types=initial_type)\n",
    "with open(FILE_PATH, \"wb\") as f:\n",
    "    f.write(onnx.SerializeToString())\n",
    "    \n",
    "print(\"Model saved in {}\\n\".format(FILE_PATH))\n",
    "\n",
    "\n",
    "# Check the model\n",
    "import onnx\n",
    "onnx_model = onnx.load(Path(FILE_PATH))\n",
    "onnx.checker.check_model(onnx_model)\n",
    "\n",
    "\n",
    "# Compute the prediction with ONNX Runtime\n",
    "import onnxruntime as rt\n",
    "import numpy\n",
    "sess = rt.InferenceSession(FILE_PATH)\n",
    "input_name = sess.get_inputs()[0].name\n",
    "label_name = sess.get_outputs()[0].name\n",
    "pred_onnx = sess.run([label_name], {input_name: X_test.astype(numpy.float32)})[0]\n",
    "\n",
    "# Display a few predictions\n",
    "for i in range(5):\n",
    "    print(\"Prediction: {} - Ground truth label {}\".format(pred_onnx[i], y_test[i]))"
   ]
  },
  {
   "cell_type": "markdown",
   "id": "chronic-charity",
   "metadata": {},
   "source": [
    "## Setup your Scaleway Credentials"
   ]
  },
  {
   "cell_type": "markdown",
   "id": "loved-steering",
   "metadata": {},
   "source": [
    "````\n",
    "# More information about environment variables for Scaleway at\n",
    "# https://github.com/scaleway/scaleway-sdk-go/tree/master/scw#environment-variables\n",
    "# For a new secret key, click on the button [Generate new API Key], at\n",
    "# https://console.scaleway.com/project/credentials\n",
    "\n",
    "import os\n",
    "\n",
    "os.environ[\"SCW_ACCESS_KEY\"] = \"xxx\"\n",
    "os.environ[\"SCW_SECRET_KEY\"] = \"xxx\"\n",
    "os.environ[\"SCW_DEFAULT_ORGANIZATION_ID\"] = \"xxx\"\n",
    "os.environ[\"SCW_DEFAULT_PROJECT_ID\"] = \"xxx\"\n",
    "\n",
    "os.environ[\"SCW_DEFAULT_REGION\"] = \"fr-par\"\n",
    "os.environ[\"SCW_DEFAULT_ZONE\"] = \"fr-par-1\"\n",
    "os.environ[\"SCW_API_URL\"] = \"https://api.scaleway.com\"\n",
    "\n",
    "os.environ[\"SCW_ACCESS_KEY_S3\"] = \"xxx\"\n",
    "os.environ[\"SCW_SECRET_KEY_S3\"] = \"xxx\"\n",
    "\n",
    "os.environ[\"S3_BUCKET_NAME\"] = \"xxx\"\n",
    "````"
   ]
  },
  {
   "cell_type": "code",
   "execution_count": 7,
   "id": "different-providence",
   "metadata": {},
   "outputs": [
    {
     "name": "stdout",
     "output_type": "stream",
     "text": [
      "Validating environment variables\n",
      "  $SCW_ACCESS_KEY: SCW73JGG✴✴✴✴✴✴✴✴✴✴✴✴\n",
      "  $SCW_SECRET_KEY: dd631c2c-✴✴✴✴-✴✴✴✴-✴✴✴✴-✴✴✴✴✴✴✴✴✴✴✴✴\n",
      "  $SCW_DEFAULT_ORGANIZATION_ID: 7c304503-✴✴✴✴-✴✴✴✴-✴✴✴✴-✴✴✴✴✴✴✴✴✴✴✴✴\n",
      "  $SCW_DEFAULT_PROJECT_ID: 7c304503-✴✴✴✴-✴✴✴✴-✴✴✴✴-✴✴✴✴✴✴✴✴✴✴✴✴\n",
      "  $SCW_DEFAULT_REGION: fr-par\n",
      "  $SCW_DEFAULT_ZONE: fr-par-1\n",
      "  $SCW_API_URL: https://api.scaleway.com\n",
      "  $SCW_ACCESS_KEY_S3: SCW73JGG✴✴✴✴✴✴✴✴✴✴✴✴\n",
      "  $SCW_SECRET_KEY_S3: dd631c2c-✴✴✴✴-✴✴✴✴-✴✴✴✴-✴✴✴✴✴✴✴✴✴✴✴✴\n",
      "  $S3_BUCKET_NAME: inference-demo\n"
     ]
    }
   ],
   "source": [
    "# Load credentials through environment variables and setup constants\n",
    "\n",
    "# Get your credentials at https://console.scaleway.com/project/credentials\n",
    "# For a new secret key, click on the button [Generate new API Key].\n",
    "# More information about environment variables for Scaleway at\n",
    "# https://github.com/scaleway/scaleway-sdk-go/tree/master/scw#environment-variables\n",
    "environment_variable_keys = [\n",
    "    \"SCW_ACCESS_KEY\",\n",
    "    \"SCW_SECRET_KEY\",\n",
    "    \"SCW_DEFAULT_ORGANIZATION_ID\",\n",
    "    \"SCW_DEFAULT_PROJECT_ID\",\n",
    "    \"SCW_DEFAULT_REGION\",\n",
    "    \"SCW_DEFAULT_ZONE\",\n",
    "    \"SCW_API_URL\",\n",
    "    \"SCW_ACCESS_KEY_S3\",\n",
    "    \"SCW_SECRET_KEY_S3\",\n",
    "    \"S3_BUCKET_NAME\"\n",
    "]\n",
    "\n",
    "def hiden_secret(value):\n",
    "    str_ = \"\"\n",
    "    start = 0\n",
    "    middle = min(8, int(len(value)/2))\n",
    "    end = len(value)\n",
    "    for i in range(start, middle):\n",
    "        str_ += value[i]\n",
    "    for i in range(middle, end):\n",
    "        if value[i] == \"-\":\n",
    "            str_ += \"-\"\n",
    "        else:\n",
    "            str_ += \"✴\"\n",
    "    return str_\n",
    "\n",
    "def print_environment_variable(key):\n",
    "    if key in [\"SCW_ACCESS_KEY\", \"SCW_SECRET_KEY\", \"SCW_DEFAULT_ORGANIZATION_ID\", \"SCW_DEFAULT_PROJECT_ID\", \"SCW_ACCESS_KEY_S3\", \"SCW_SECRET_KEY_S3\"]:\n",
    "        value = hiden_secret(os.getenv(key))\n",
    "    else:\n",
    "        value = os.getenv(key)\n",
    "    print(f'  ${key}: {value}')\n",
    "\n",
    "def assert_environment_variable(key):\n",
    "    assert os.getenv(key) is not None, f\"no value for environment variable ${key}\"\n",
    "\n",
    "def validate_environment_variables(environment_variable_keys):\n",
    "    print('Validating environment variables')\n",
    "    for key in environment_variable_keys:\n",
    "        print_environment_variable(key)\n",
    "        assert_environment_variable(key)\n",
    "\n",
    "def validate_access_key(access_key):\n",
    "    len_access_key = len(access_key)\n",
    "    expected_len = 20\n",
    "    assert len_access_key == expected_len, f\"\"\"invalid length for access key\n",
    "        access key: {access_key[:8]}...\n",
    "        expected length: {expected_len}\n",
    "        length:          {len_access_key}\"\"\"\n",
    "\n",
    "def validate_secret_key(secret_key):\n",
    "    len_secret_key = len(secret_key)\n",
    "    expected_len = 36\n",
    "    assert len_secret_key == expected_len, f\"\"\"invalid length for secret key\n",
    "        secret key: {secret_key[:8]}...\n",
    "        expected length: {expected_len}\n",
    "        length:          {len_secret_key}\"\"\"\n",
    "        \n",
    "validate_environment_variables(environment_variable_keys)\n",
    "\n",
    "# If you prefer not to pass your credentials through environment variables, \n",
    "# you can overide the following constants directly.\n",
    "SCW_ACCESS_KEY = os.getenv(\"SCW_ACCESS_KEY\")\n",
    "SCW_SECRET_KEY = os.getenv(\"SCW_SECRET_KEY\")\n",
    "SCW_DEFAULT_ORGANIZATION_ID = os.getenv(\"SCW_DEFAULT_ORGANIZATION_ID\")\n",
    "SCW_DEFAULT_PROJECT_ID = os.getenv(\"SCW_DEFAULT_PROJECT_ID\")\n",
    "SCW_DEFAULT_REGION = os.getenv(\"SCW_DEFAULT_REGION\")\n",
    "SCW_DEFAULT_ZONE = os.getenv(\"SCW_DEFAULT_ZONE\")\n",
    "SCW_API_URL = os.getenv(\"SCW_API_URL\")\n",
    "SCW_ACCESS_KEY_S3 = os.getenv(\"SCW_ACCESS_KEY_S3\")\n",
    "SCW_SECRET_KEY_S3 = os.getenv(\"SCW_SECRET_KEY_S3\")\n",
    "\n",
    "S3_BUCKET_NAME = os.getenv(\"S3_BUCKET_NAME\")\n",
    "\n",
    "validate_access_key(SCW_ACCESS_KEY)\n",
    "validate_secret_key(SCW_SECRET_KEY)\n"
   ]
  },
  {
   "cell_type": "markdown",
   "id": "express-carnival",
   "metadata": {},
   "source": [
    "## Upload the model in your Object Storage bucket\n",
    "\n",
    "**Important** : The bucket name must be unique, so you have to customize it."
   ]
  },
  {
   "cell_type": "code",
   "execution_count": 8,
   "id": "cultural-macro",
   "metadata": {},
   "outputs": [
    {
     "name": "stdout",
     "output_type": "stream",
     "text": [
      "bucket already exists: inference-demo\n",
      "uploading file: iris.onnx\n",
      "s3_model_path:            inference-demo/iris.onnx\n",
      "object_storage_model_url: https://s3.fr-par.scw.cloud/inference-demo/iris.onnx\n",
      "console link:             https://console.scaleway.com/object-storage/buckets/fr-par/inference-demo/explorer\n"
     ]
    }
   ],
   "source": [
    "# Customize the Bucket Name\n",
    "S3_BUCKET_NAME = f\"inference-demo\"\n",
    "\n",
    "S3_BUCKET_FILENAME = \"iris.onnx\" \n",
    "\n",
    "S3_URL = f\"https://s3.{SCW_DEFAULT_REGION}.scw.cloud\"\n",
    "\n",
    "SCW_BUCKET_CONSOLE_BASE_URL = f\"https://console.scaleway.com/object-storage/buckets\"\n",
    "SCW_BUCKET_CONSOLE_URL_TEMPLATE = f\"{SCW_BUCKET_CONSOLE_BASE_URL}/{SCW_DEFAULT_REGION}/{{bucket_name}}/explorer\"\n",
    "\n",
    "\n",
    "# We can upload our local model to Scaleway Object Storage (s3 bucket)\n",
    "\n",
    "import sys\n",
    "import boto3\n",
    "from botocore.client import ClientError\n",
    "import json\n",
    "import requests\n",
    "\n",
    "def bucket_exists(bucket):\n",
    "    try:\n",
    "        resource.meta.client.head_bucket(Bucket=bucket.name)\n",
    "        return True\n",
    "    except ClientError:\n",
    "        return False\n",
    "\n",
    "def create_bucket_if_not_exist(bucket_name):\n",
    "    bucket = resource.Bucket(bucket_name)\n",
    "    if bucket_exists(bucket) == False:\n",
    "        print(f'creating bucket')\n",
    "        # The Access policy needs to be public for both Bucket and object\n",
    "        bucket.create(ACL=\"public-read\")\n",
    "    else:\n",
    "        print(f'bucket already exists: {bucket_name}')\n",
    "    return bucket\n",
    "\n",
    "def upload_file(bucket, model_path, s3_bucket_filename):\n",
    "    client = resource.meta.client\n",
    "    obj_list = client.list_objects(Bucket=bucket.name)\n",
    "    \n",
    "    if \"Contents\" not in obj_list.keys():\n",
    "        print(f'uploading file: {s3_bucket_filename}')\n",
    "        with open(model_path, \"rb\") as model_file:\n",
    "            bucket.upload_fileobj(model_file, s3_bucket_filename, ExtraArgs={'ACL':'public-read'})\n",
    "    else:\n",
    "        obj_key = [ key[\"Key\"] for key in client.list_objects(Bucket=bucket.name)[\"Contents\"] ]\n",
    "        if s3_bucket_filename not in obj_key:\n",
    "            print(f'uploading file: {s3_bucket_filename}')\n",
    "            with open(model_path, \"rb\") as model_file:\n",
    "                bucket.upload_fileobj(model_file, s3_bucket_filename, ExtraArgs={'ACL':'public-read'})\n",
    "        else:\n",
    "            print(f'file already exists: {s3_bucket_filename}')\n",
    "    \n",
    "    return f\"{bucket.name}/{s3_bucket_filename}\"\n",
    "\n",
    "\n",
    "s3_session = boto3.Session(region_name=SCW_DEFAULT_REGION)\n",
    "\n",
    "resource = s3_session.resource(\"s3\",\n",
    "    endpoint_url=S3_URL,\n",
    "    aws_access_key_id=SCW_ACCESS_KEY_S3,\n",
    "    aws_secret_access_key=SCW_SECRET_KEY_S3\n",
    ")\n",
    "\n",
    "bucket = create_bucket_if_not_exist(S3_BUCKET_NAME)\n",
    "\n",
    "s3_model_path = upload_file(bucket, FILE_PATH, S3_BUCKET_FILENAME)\n",
    "\n",
    "print(f's3_model_path:            {s3_model_path}')\n",
    "object_storage_model_url = f'{S3_URL}/{s3_model_path}'\n",
    "print(f'object_storage_model_url: {object_storage_model_url}')\n",
    "print(f'console link:             {SCW_BUCKET_CONSOLE_URL_TEMPLATE.format(bucket_name=bucket.name)}')"
   ]
  },
  {
   "cell_type": "markdown",
   "id": "endless-serbia",
   "metadata": {},
   "source": [
    "## AI Inference - Create a model"
   ]
  },
  {
   "cell_type": "markdown",
   "id": "substantial-share",
   "metadata": {},
   "source": [
    "### Make sure the Inference API is up"
   ]
  },
  {
   "cell_type": "code",
   "execution_count": 9,
   "id": "noble-spouse",
   "metadata": {},
   "outputs": [
    {
     "name": "stdout",
     "output_type": "stream",
     "text": [
      "{\n",
      "  \"name\": \"Inference\",\n",
      "  \"description\": \"Scaleway Inference At Scale API\",\n",
      "  \"version\": \"1.0.21\",\n",
      "  \"documentation_url\": \"https://developer.scaleway.com/\"\n",
      "}\n"
     ]
    }
   ],
   "source": [
    "%%bash\n",
    "\n",
    "# Make sure the Inference API is up\n",
    "curl -s -X GET  -H \"X-Auth-Token: $SCW_SECRET_KEY\" \\\n",
    "                -G -d \"project_id=$SCW_DEFAULT_PROJECT_ID\" \\\n",
    "                https://api.scaleway.com/inference/v1alpha1 | jq '.'"
   ]
  },
  {
   "cell_type": "markdown",
   "id": "patient-running",
   "metadata": {},
   "source": [
    "### List your Inference models deployed in production\n",
    "\n",
    "**IMPORTANT** Make sure we are not over quotas : During the Early Access, each users (account) can launch up to 10 model inference endpoints."
   ]
  },
  {
   "cell_type": "code",
   "execution_count": 10,
   "id": "expensive-routine",
   "metadata": {},
   "outputs": [
    {
     "name": "stdout",
     "output_type": "stream",
     "text": [
      "{\n",
      "  \"models\": [],\n",
      "  \"total_count\": 0\n",
      "}\n"
     ]
    }
   ],
   "source": [
    "%%bash\n",
    "\n",
    "# List your Inference models deployed in production\n",
    "curl -s -X GET  -H \"X-Auth-Token: $SCW_SECRET_KEY\" \\\n",
    "                -G -d \"project_id=$SCW_DEFAULT_PROJECT_ID\" \\\n",
    "                https://api.scaleway.com/inference/v1alpha1/models | jq '.'"
   ]
  },
  {
   "cell_type": "markdown",
   "id": "destroyed-mistake",
   "metadata": {},
   "source": [
    "If necessary, you can delete models (**Don't forget to fill the `MODEL_ID` before executing the next code cell**)\n",
    "\n"
   ]
  },
  {
   "cell_type": "code",
   "execution_count": null,
   "id": "joint-convenience",
   "metadata": {},
   "outputs": [],
   "source": [
    "%%bash\n",
    "\n",
    "# Delete a model\n",
    "export MODEL_ID=\"\" # Update ID\n",
    "\n",
    "curl -s -X DELETE  -H \"X-Auth-Token: $SCW_SECRET_KEY\" \\\n",
    "                -G -d \"project_id=$SCW_DEFAULT_PROJECT_ID\" \\\n",
    "                https://api.scaleway.com/inference/v1alpha1/models/$MODEL_ID | jq '.'"
   ]
  },
  {
   "cell_type": "markdown",
   "id": "widespread-spoke",
   "metadata": {},
   "source": [
    "### Create a Inference model"
   ]
  },
  {
   "cell_type": "code",
   "execution_count": 11,
   "id": "applied-preservation",
   "metadata": {},
   "outputs": [
    {
     "name": "stdout",
     "output_type": "stream",
     "text": [
      "{\"id\":\"3f3e790c-7652-453c-acb0-3ebd87685ed7\",\"organization_id\":\"7c304503-a644-4364-9fa1-b75e0de3a5b6\",\"status\":\"converting\",\"path\":\"https://s3.fr-par.scw.cloud/inference-demo/iris.onnx\",\"name\":\"iris.onnx\",\"framework\":\"onnx:latest\",\"config\":{\"input_type\":\"float32\"},\"endpoint\":null,\"error_message\":null,\"project_id\":\"7c304503-a644-4364-9fa1-b75e0de3a5b6\",\"created_at\":\"2021-03-31T12:35:01.643036Z\",\"updated_at\":\"2021-03-31T12:35:01.643036Z\"}"
     ]
    }
   ],
   "source": [
    "%%bash\n",
    "\n",
    "export MODEL_S3_URL=\"https://s3.fr-par.scw.cloud/inference-demo/iris.onnx\"    # Update your model URL\n",
    "\n",
    "payload()\n",
    "{\n",
    "  cat <<EOF\n",
    "{\n",
    "    \"project_id\": \"$SCW_DEFAULT_PROJECT_ID\",\n",
    "    \"name\": \"iris.onnx\",\n",
    "    \"framework\": \"onnx:latest\",\n",
    "    \"path\": \"$MODEL_S3_URL\",\n",
    "    \"config\": {\"input_type\": \"float32\"}    \n",
    "}\n",
    "EOF\n",
    "}\n",
    "\n",
    "curl -s -X POST 'https://api.scaleway.com/inference/v1alpha1/models' \\\n",
    "                -H 'X-Auth-Token: \"'\"$SCW_SECRET_KEY\"'\"' \\\n",
    "                -H 'Content-Type: application/json' \\\n",
    "                -d \"$(payload)\"\n"
   ]
  },
  {
   "cell_type": "markdown",
   "id": "rolled-turkey",
   "metadata": {},
   "source": [
    "Now we can check the status of the model. This can take 4-5 minutes, you may need to refresh the next cell several times until the status is \"Ready\". If everything goes fine, the status will change from \"Converting\", \"Building\", \"Deploying\" to \"Ready\"."
   ]
  },
  {
   "cell_type": "code",
   "execution_count": 12,
   "id": "indonesian-increase",
   "metadata": {},
   "outputs": [
    {
     "name": "stdout",
     "output_type": "stream",
     "text": [
      "{\n",
      "  \"models\": [\n",
      "    {\n",
      "      \"id\": \"3f3e790c-7652-453c-acb0-3ebd87685ed7\",\n",
      "      \"organization_id\": \"7c304503-a644-4364-9fa1-b75e0de3a5b6\",\n",
      "      \"status\": \"ready\",\n",
      "      \"path\": \"https://s3.fr-par.scw.cloud/inference-demo/iris.onnx\",\n",
      "      \"name\": \"iris.onnx\",\n",
      "      \"framework\": \"onnx:latest\",\n",
      "      \"config\": {\n",
      "        \"input_type\": \"float32\"\n",
      "      },\n",
      "      \"endpoint\": \"https://inferenceatscaleprodbgq4euex-f3e790c-7652-453c-ac.functions.fnc.fr-par.scw.cloud\",\n",
      "      \"error_message\": null,\n",
      "      \"project_id\": \"7c304503-a644-4364-9fa1-b75e0de3a5b6\",\n",
      "      \"created_at\": \"2021-03-31T12:35:01.643036Z\",\n",
      "      \"updated_at\": \"2021-03-31T12:35:01.643036Z\"\n",
      "    }\n",
      "  ],\n",
      "  \"total_count\": 1\n",
      "}\n"
     ]
    }
   ],
   "source": [
    "%%bash\n",
    "\n",
    "# List your Inference models deployed in production\n",
    "curl -s -X GET  -H \"X-Auth-Token: $SCW_SECRET_KEY\" \\\n",
    "                -G -d \"project_id=$SCW_DEFAULT_PROJECT_ID\" \\\n",
    "                https://api.scaleway.com/inference/v1alpha1/models | jq '.'"
   ]
  },
  {
   "cell_type": "markdown",
   "id": "amended-branch",
   "metadata": {},
   "source": [
    "### Make a prediction\n",
    "\n",
    "First take a data sample from the Irias test dataset"
   ]
  },
  {
   "cell_type": "code",
   "execution_count": 13,
   "id": "simple-chicago",
   "metadata": {},
   "outputs": [
    {
     "name": "stdout",
     "output_type": "stream",
     "text": [
      "Data Features [6.3 2.7 4.9 1.8] - Target Label 2\n"
     ]
    }
   ],
   "source": [
    "# Display a Sample from the test set\n",
    "print(\"Data Features {} - Target Label {}\".format(X_test[7], y_test[7]))\n"
   ]
  },
  {
   "cell_type": "markdown",
   "id": "enabling-austria",
   "metadata": {},
   "source": [
    "And then make the API call :\n",
    "\n",
    "IMPORTANT :\n",
    "- Make sure to copy-paste the `ENDPOINT_URL`of the inference model\n",
    "- Optionnaly you can chnage the input data values"
   ]
  },
  {
   "cell_type": "code",
   "execution_count": 14,
   "id": "chinese-payment",
   "metadata": {},
   "outputs": [
    {
     "name": "stdout",
     "output_type": "stream",
     "text": [
      "{\"data\": {\"format\": \"array\", \"arrayData\": {\"shape\": [1], \"values\": [2]}}}\n"
     ]
    }
   ],
   "source": [
    "%%bash\n",
    "\n",
    "export ENDPOINT_URL=\"https://inferenceatscaleprodbgq4euex-f3e790c-7652-453c-ac.functions.fnc.fr-par.scw.cloud\"   # Update the endpoint url\n",
    "\n",
    "# Update Data values\n",
    "curl -s X POST $ENDPOINT_URL \\\n",
    "               -H 'Content-Type: application/json' \\\n",
    "               -d '{\n",
    "  \"data\": {\n",
    "    \"format\": \"array\",\n",
    "    \"arrayData\": {\n",
    "      \"shape\": [1, 4],\n",
    "      \"values\": [6.3, 2.7, 4.9, 1.8]  \n",
    "    }\n",
    "  }\n",
    "}' \n",
    "                \n",
    "        \n"
   ]
  },
  {
   "cell_type": "markdown",
   "id": "popular-flood",
   "metadata": {},
   "source": [
    "### Make predictions for a batch of 5 samples"
   ]
  },
  {
   "cell_type": "code",
   "execution_count": 15,
   "id": "stock-metro",
   "metadata": {},
   "outputs": [
    {
     "name": "stdout",
     "output_type": "stream",
     "text": [
      "Data Features [7.6 3.  6.6 2.1] - Target Label 2\n",
      "Data Features [5.5 2.4 3.7 1. ] - Target Label 1\n",
      "Data Features [6.3 2.7 4.9 1.8] - Target Label 2\n",
      "Data Features [5.5 4.2 1.4 0.2] - Target Label 0\n",
      "Data Features [5.1 3.5 1.4 0.3] - Target Label 0\n"
     ]
    }
   ],
   "source": [
    "# Display 5 samples from the test set\n",
    "for i in range(5,10):\n",
    "    print(\"Data Features {} - Target Label {}\".format(X_test[i], y_test[i]))\n"
   ]
  },
  {
   "cell_type": "markdown",
   "id": "contained-auckland",
   "metadata": {},
   "source": [
    "And then make the API call :\n",
    "    \n",
    "IMPORTANT :\n",
    "- Make sure to copy-paste the `ENDPOINT_URL`of teh inference model\n",
    "- Optionnaly you can chnage the input data values"
   ]
  },
  {
   "cell_type": "code",
   "execution_count": 16,
   "id": "gentle-giving",
   "metadata": {},
   "outputs": [
    {
     "name": "stdout",
     "output_type": "stream",
     "text": [
      "{\"data\": {\"format\": \"array\", \"arrayData\": {\"shape\": [5], \"values\": [2, 1, 2, 0, 0]}}}\n"
     ]
    }
   ],
   "source": [
    "%%bash\n",
    "\n",
    "export ENDPOINT_URL=\"https://inferenceatscaleprodbgq4euex-f3e790c-7652-453c-ac.functions.fnc.fr-par.scw.cloud\"   # Update the endpoint url\n",
    "\n",
    "# Update Data Values\n",
    "curl -s X POST $ENDPOINT_URL \\\n",
    "               -H 'Content-Type: application/json' \\\n",
    "               -d '{\n",
    "  \"data\": {\n",
    "    \"format\": \"array\",\n",
    "    \"arrayData\": {\n",
    "      \"shape\": [5, 4],\n",
    "      \"values\": [[7.6, 3.0, 6.6, 2.1], [5.5, 2.4, 3.7, 1.0], [6.3, 2.7, 4.9, 1.8], [5.5, 4.2, 1.4, 0.2], [5.1, 3.5, 1.4, 0.3]]\n",
    "    }\n",
    "  }\n",
    "}' \n",
    "     "
   ]
  },
  {
   "cell_type": "code",
   "execution_count": null,
   "id": "contained-nutrition",
   "metadata": {},
   "outputs": [],
   "source": []
  }
 ],
 "metadata": {
  "kernelspec": {
   "display_name": "Python 3",
   "language": "python",
   "name": "python3"
  },
  "language_info": {
   "codemirror_mode": {
    "name": "ipython",
    "version": 3
   },
   "file_extension": ".py",
   "mimetype": "text/x-python",
   "name": "python",
   "nbconvert_exporter": "python",
   "pygments_lexer": "ipython3",
   "version": "3.8.5"
  }
 },
 "nbformat": 4,
 "nbformat_minor": 5
}
